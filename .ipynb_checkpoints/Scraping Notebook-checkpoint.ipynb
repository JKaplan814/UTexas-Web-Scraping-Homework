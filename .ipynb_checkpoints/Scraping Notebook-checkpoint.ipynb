{
 "cells": [
  {
   "cell_type": "code",
   "execution_count": 7,
   "metadata": {},
   "outputs": [],
   "source": [
    "# Dependencies\n",
    "import re\n",
    "import os\n",
    "from bs4 import BeautifulSoup\n",
    "import requests\n",
    "from splinter import Browser\n",
    "from splinter.exceptions import ElementDoesNotExist\n",
    "import pandas as pd"
   ]
  },
  {
   "cell_type": "code",
   "execution_count": 8,
   "metadata": {},
   "outputs": [],
   "source": [
    "#URL\n",
    "mars_url = 'https://mars.nasa.gov/news/?page=0&per_page=40&order=publish_date+desc%2Ccreated_at+desc&search=&category=19%2C165%2C184%2C204&blank_scope=Latest'\n",
    "response = requests.get(mars_url)\n",
    "soup = BeautifulSoup(response.text,'html.parser')\n",
    "#print(soup.prettify())"
   ]
  },
  {
   "cell_type": "code",
   "execution_count": 9,
   "metadata": {},
   "outputs": [],
   "source": [
    "#Print html results\n",
    "results = soup.find_all('div',class_='slide')[0]\n",
    "#results"
   ]
  },
  {
   "cell_type": "code",
   "execution_count": 10,
   "metadata": {},
   "outputs": [
    {
     "name": "stdout",
     "output_type": "stream",
     "text": [
      "\n",
      "\n",
      "Opportunity Hunkers Down During Dust Storm\n",
      "\n",
      "\n",
      "\n",
      "It's the beginning of the end for the planet-encircling dust storm on Mars. But it could still be weeks, or even months, before skies are clear enough for NASA's Opportunity rover to recharge its batteries and phone home. \n",
      "\n"
     ]
    }
   ],
   "source": [
    "#Find News Title and Description\n",
    "news_title = results.find('div', class_='content_title').text\n",
    "news_p = results.find('div', class_='rollover_description_inner').text\n",
    "print(news_title)\n",
    "print(news_p)"
   ]
  },
  {
   "cell_type": "code",
   "execution_count": 12,
   "metadata": {},
   "outputs": [],
   "source": [
    "jpl_url = 'https://www.jpl.nasa.gov/spaceimages/?search=&category=Mars'\n",
    "\n",
    "#Set up splinter\n",
    "browser = Browser('chrome')\n",
    "browser.visit(jpl_url)\n",
    "#soup = BeautifulSoup(html, 'html.parser')"
   ]
  },
  {
   "cell_type": "code",
   "execution_count": 13,
   "metadata": {},
   "outputs": [],
   "source": [
    "browser.click_link_by_partial_text('FULL IMAGE')"
   ]
  },
  {
   "cell_type": "code",
   "execution_count": 14,
   "metadata": {},
   "outputs": [],
   "source": [
    "html = browser.html\n",
    "soup = BeautifulSoup(html, 'html.parser')\n",
    "#print(soup.prettify())"
   ]
  },
  {
   "cell_type": "code",
   "execution_count": 15,
   "metadata": {},
   "outputs": [
    {
     "data": {
      "text/plain": [
       "'https://www.jpl.nasa.gov/spaceimages/images/mediumsize/PIA20057_ip.jpg'"
      ]
     },
     "execution_count": 15,
     "metadata": {},
     "output_type": "execute_result"
    }
   ],
   "source": [
    "image = soup.find('img', class_='fancybox-image')\n",
    "image_url = image['src']\n",
    "full_url = 'https://www.jpl.nasa.gov' + image_url\n",
    "full_url"
   ]
  },
  {
   "cell_type": "code",
   "execution_count": 16,
   "metadata": {},
   "outputs": [
    {
     "name": "stdout",
     "output_type": "stream",
     "text": [
      "Sol 2171 (2018-09-14), high -12C/10F, low -65C/-84F, pressure at 8.79 hPa, daylight 05:43-17:59\n"
     ]
    }
   ],
   "source": [
    "twitter_url = 'https://twitter.com/marswxreport?lang=en'\n",
    "response = requests.get(twitter_url)\n",
    "soup = BeautifulSoup(response.text, 'html.parser')\n",
    "mars_weather=soup.find(string=re.compile(\"Sol\"))\n",
    "print(mars_weather) "
   ]
  },
  {
   "cell_type": "code",
   "execution_count": 17,
   "metadata": {},
   "outputs": [
    {
     "data": {
      "text/plain": [
       "[                      0                              1\n",
       " 0  Equatorial Diameter:                       6,792 km\n",
       " 1       Polar Diameter:                       6,752 km\n",
       " 2                 Mass:  6.42 x 10^23 kg (10.7% Earth)\n",
       " 3                Moons:            2 (Phobos & Deimos)\n",
       " 4       Orbit Distance:       227,943,824 km (1.52 AU)\n",
       " 5         Orbit Period:           687 days (1.9 years)\n",
       " 6  Surface Temperature:                  -153 to 20 °C\n",
       " 7         First Record:              2nd millennium BC\n",
       " 8          Recorded By:           Egyptian astronomers]"
      ]
     },
     "execution_count": 17,
     "metadata": {},
     "output_type": "execute_result"
    }
   ],
   "source": [
    "facts_url = 'http://space-facts.com/mars/'\n",
    "tables = pd.read_html(facts_url)\n",
    "tables"
   ]
  },
  {
   "cell_type": "code",
   "execution_count": 18,
   "metadata": {},
   "outputs": [
    {
     "data": {
      "text/html": [
       "<div>\n",
       "<style scoped>\n",
       "    .dataframe tbody tr th:only-of-type {\n",
       "        vertical-align: middle;\n",
       "    }\n",
       "\n",
       "    .dataframe tbody tr th {\n",
       "        vertical-align: top;\n",
       "    }\n",
       "\n",
       "    .dataframe thead th {\n",
       "        text-align: right;\n",
       "    }\n",
       "</style>\n",
       "<table border=\"1\" class=\"dataframe\">\n",
       "  <thead>\n",
       "    <tr style=\"text-align: right;\">\n",
       "      <th></th>\n",
       "      <th>Value</th>\n",
       "    </tr>\n",
       "    <tr>\n",
       "      <th></th>\n",
       "      <th></th>\n",
       "    </tr>\n",
       "  </thead>\n",
       "  <tbody>\n",
       "    <tr>\n",
       "      <th>Equatorial Diameter:</th>\n",
       "      <td>6,792 km</td>\n",
       "    </tr>\n",
       "    <tr>\n",
       "      <th>Polar Diameter:</th>\n",
       "      <td>6,752 km</td>\n",
       "    </tr>\n",
       "    <tr>\n",
       "      <th>Mass:</th>\n",
       "      <td>6.42 x 10^23 kg (10.7% Earth)</td>\n",
       "    </tr>\n",
       "    <tr>\n",
       "      <th>Moons:</th>\n",
       "      <td>2 (Phobos &amp; Deimos)</td>\n",
       "    </tr>\n",
       "    <tr>\n",
       "      <th>Orbit Distance:</th>\n",
       "      <td>227,943,824 km (1.52 AU)</td>\n",
       "    </tr>\n",
       "    <tr>\n",
       "      <th>Orbit Period:</th>\n",
       "      <td>687 days (1.9 years)</td>\n",
       "    </tr>\n",
       "    <tr>\n",
       "      <th>Surface Temperature:</th>\n",
       "      <td>-153 to 20 °C</td>\n",
       "    </tr>\n",
       "    <tr>\n",
       "      <th>First Record:</th>\n",
       "      <td>2nd millennium BC</td>\n",
       "    </tr>\n",
       "    <tr>\n",
       "      <th>Recorded By:</th>\n",
       "      <td>Egyptian astronomers</td>\n",
       "    </tr>\n",
       "  </tbody>\n",
       "</table>\n",
       "</div>"
      ],
      "text/plain": [
       "                                              Value\n",
       "                                                   \n",
       "Equatorial Diameter:                       6,792 km\n",
       "Polar Diameter:                            6,752 km\n",
       "Mass:                 6.42 x 10^23 kg (10.7% Earth)\n",
       "Moons:                          2 (Phobos & Deimos)\n",
       "Orbit Distance:            227,943,824 km (1.52 AU)\n",
       "Orbit Period:                  687 days (1.9 years)\n",
       "Surface Temperature:                  -153 to 20 °C\n",
       "First Record:                     2nd millennium BC\n",
       "Recorded By:                   Egyptian astronomers"
      ]
     },
     "execution_count": 18,
     "metadata": {},
     "output_type": "execute_result"
    }
   ],
   "source": [
    "df = tables[0]\n",
    "df.columns = ['','Value']\n",
    "df.set_index('')"
   ]
  },
  {
   "cell_type": "code",
   "execution_count": 19,
   "metadata": {},
   "outputs": [],
   "source": [
    "html_table = df.to_html()"
   ]
  },
  {
   "cell_type": "code",
   "execution_count": 26,
   "metadata": {},
   "outputs": [],
   "source": [
    "mars_hemis_url = 'https://astrogeology.usgs.gov/search/results?q=hemisphere+enhanced&k1=target&v1=Mars'\n",
    "mars_hemis_base_url = 'https://astrogeology.usgs.gov'\n",
    "browser.visit(mars_hemis_url)"
   ]
  },
  {
   "cell_type": "code",
   "execution_count": 25,
   "metadata": {},
   "outputs": [
    {
     "name": "stdout",
     "output_type": "stream",
     "text": [
      "[{'title': <h3>Cerberus Hemisphere Enhanced</h3>, 'img_url': 'http://astropedia.astrogeology.usgs.gov/download/Mars/Viking/cerberus_enhanced.tif'}, {'title': <h3>Schiaparelli Hemisphere Enhanced</h3>, 'img_url': 'http://astropedia.astrogeology.usgs.gov/download/Mars/Viking/schiaparelli_enhanced.tif'}, {'title': <h3>Syrtis Major Hemisphere Enhanced</h3>, 'img_url': 'http://astropedia.astrogeology.usgs.gov/download/Mars/Viking/syrtis_major_enhanced.tif'}, {'title': <h3>Valles Marineris Hemisphere Enhanced</h3>, 'img_url': 'http://astropedia.astrogeology.usgs.gov/download/Mars/Viking/valles_marineris_enhanced.tif'}]\n"
     ]
    }
   ],
   "source": [
    "html = browser.html\n",
    "soup = BeautifulSoup(html, 'html.parser')\n",
    "\n",
    "titles = []\n",
    "\n",
    "mars_hemis_imgs = soup.find_all('div', class_='description')\n",
    "html = browser.html\n",
    "soup = BeautifulSoup(html, 'html.parser')\n",
    "\n",
    "\n",
    "for h3_tag in soup.find_all('h3')\n",
    "    titles.append(h3_tag.text)\n",
    "\n",
    "mars_hemis_imgs = soup.find_all('div', class_='description')\n",
    "\n",
    "mars_hemis_list = []\n",
    "for x in range(len(mars_hemis_imgs)):\n",
    "   mars_hemis_url = mars_hemis_imgs[x].find('a').get('href')\n",
    "   mars_hemis_list.append(mars_hemis_base_url + mars_hemis_url)\n",
    "\n",
    "image_urls = []\n",
    "for hemi_url in mars_hemis_list:\n",
    "   browser.visit(hemi_url)\n",
    "\n",
    "   html = browser.html\n",
    "   soup = BeautifulSoup(html, 'html.parser')\n",
    "   for link in soup.find_all('div', class_='downloads'):\n",
    "        image_urls.append(link.find_all('a')[1].get('href'))\n",
    "\n",
    "hemisphere_image_urls = []\n",
    "for title, img_url in zip(titles, image_urls):\n",
    "    hemisphere_image_urls.append({'title': title,\n",
    "                                 'img_url': img_url})\n",
    "\n",
    "print(hemisphere_image_urls)"
   ]
  },
  {
   "cell_type": "code",
   "execution_count": 68,
   "metadata": {},
   "outputs": [],
   "source": [
    "def scrape():\n",
    "    # Dependencies\n",
    "    import re\n",
    "    import os\n",
    "    from bs4 import BeautifulSoup\n",
    "    import requests\n",
    "    from splinter import Browser\n",
    "    from splinter.exceptions import ElementDoesNotExist\n",
    "    import pandas as pd\n",
    "    import time\n",
    "\n",
    "    scrape = {}\n",
    "\n",
    "    mars_url = 'https://mars.nasa.gov/news/?page=0&per_page=40&order=publish_date+desc%2Ccreated_at+desc&search=&category=19%2C165%2C184%2C204&blank_scope=Latest'\n",
    "    response = requests.get(mars_url)\n",
    "    mars_soup = BeautifulSoup(response.text,'html.parser')\n",
    "    #print(soup.prettify())\n",
    "\n",
    "    mars_results = mars_soup.find_all('div',class_='slide')[0]\n",
    "\n",
    "    news_title = mars_results.find('div', class_='content_title').text\n",
    "    news_p = mars_results.find('div', class_='rollover_description_inner').text\n",
    "\n",
    "    scrape['news_title'] = news_title\n",
    "    scrape['news_p'] = news_p\n",
    "\n",
    "    jpl_url = 'https://www.jpl.nasa.gov/spaceimages/?search=&category=Mars'\n",
    "\n",
    "    #Set up splinter\n",
    "    browser = Browser('chrome')\n",
    "    browser.visit(jpl_url)\n",
    "    html = browser.html\n",
    "    jpl_soup = BeautifulSoup(html, 'html.parser')\n",
    "    time.sleep(5)\n",
    "    browser.click_link_by_partial_text('FULL IMAGE')\n",
    "    time.sleep(20)\n",
    "\n",
    "    html = browser.html\n",
    "    jpl_img_soup = BeautifulSoup(html, 'html.parser')\n",
    "    image = jpl_img_soup.find('img', class_='fancybox-image')\n",
    "    image_url = image['src']\n",
    "    full_url = 'https://www.jpl.nasa.gov' + image_url\n",
    "\n",
    "    scrape['jpl_url'] = full_url\n",
    "\n",
    "    twitter_url = 'https://twitter.com/marswxreport?lang=en'\n",
    "    response = requests.get(twitter_url)\n",
    "    tw_soup = BeautifulSoup(response.text, 'html.parser')\n",
    "    mars_weather=tw_soup.find(string=re.compile(\"Sol\"))\n",
    "\n",
    "    scrape['weather'] = mars_weather\n",
    "\n",
    "    facts_url = 'http://space-facts.com/mars/'\n",
    "    tables = pd.read_html(facts_url)\n",
    "    df = tables[0]\n",
    "    df.columns = ['','Value']\n",
    "    df.set_index('')\n",
    "    html_table = df.to_html()\n",
    "\n",
    "    scrape['table'] = html_table\n",
    "\n",
    "    mars_hemis_url = 'https://astrogeology.usgs.gov/search/results?q=hemisphere+enhanced&k1=target&v1=Mars'\n",
    "    mars_hemis_base_url = 'https://astrogeology.usgs.gov'\n",
    "    browser.visit(mars_hemis_url)\n",
    "    time.sleep(5)\n",
    "\n",
    "    html = browser.html\n",
    "    soup = BeautifulSoup(html, 'html.parser')\n",
    "\n",
    "    titles = soup.find_all('h3')\n",
    "\n",
    "    mars_hemis_imgs = soup.find_all('div', class_='description')\n",
    "    html = browser.html\n",
    "    soup = BeautifulSoup(html, 'html.parser')\n",
    "\n",
    "    titles = soup.find_all('h3')\n",
    "\n",
    "    mars_hemis_imgs = soup.find_all('div', class_='description')\n",
    "\n",
    "    mars_hemis_list = []\n",
    "    for x in range(len(mars_hemis_imgs)):\n",
    "        mars_hemis_url = mars_hemis_imgs[x].find('a').get('href')\n",
    "        mars_hemis_list.append(mars_hemis_base_url + mars_hemis_url)\n",
    "\n",
    "    image_urls = []\n",
    "    for hemi_url in mars_hemis_list:\n",
    "        browser.visit(hemi_url)\n",
    "\n",
    "    html = browser.html\n",
    "    soup = BeautifulSoup(html, 'html.parser')\n",
    "    for link in soup.find_all('div', class_='downloads'):\n",
    "            image_urls.append(link.find_all('a')[1].get('href'))\n",
    "\n",
    "    hemisphere_image_urls = []\n",
    "    for title, img_url in zip(titles, image_urls):\n",
    "        hemisphere_image_urls.append({'title': title,\n",
    "                                    'img_url': img_url})\n",
    "\n",
    "    scrape['hemis'] = hemisphere_image_urls\n",
    "    print(scrape)\n",
    "    return scrape"
   ]
  },
  {
   "cell_type": "code",
   "execution_count": 69,
   "metadata": {},
   "outputs": [
    {
     "name": "stdout",
     "output_type": "stream",
     "text": [
      "{'news_title': '\\n\\nOpportunity Hunkers Down During Dust Storm\\n\\n', 'news_p': \"\\nIt's the beginning of the end for the planet-encircling dust storm on Mars. But it could still be weeks, or even months, before skies are clear enough for NASA's Opportunity rover to recharge its batteries and phone home. \\n\", 'jpl_url': 'https://www.jpl.nasa.gov/spaceimages/images/mediumsize/PIA19913_ip.jpg', 'weather': 'Sol 2171 (2018-09-14), high -12C/10F, low -65C/-84F, pressure at 8.79 hPa, daylight 05:43-17:59', 'table': '<table border=\"1\" class=\"dataframe\">\\n  <thead>\\n    <tr style=\"text-align: right;\">\\n      <th></th>\\n      <th></th>\\n      <th>Value</th>\\n    </tr>\\n  </thead>\\n  <tbody>\\n    <tr>\\n      <th>0</th>\\n      <td>Equatorial Diameter:</td>\\n      <td>6,792 km</td>\\n    </tr>\\n    <tr>\\n      <th>1</th>\\n      <td>Polar Diameter:</td>\\n      <td>6,752 km</td>\\n    </tr>\\n    <tr>\\n      <th>2</th>\\n      <td>Mass:</td>\\n      <td>6.42 x 10^23 kg (10.7% Earth)</td>\\n    </tr>\\n    <tr>\\n      <th>3</th>\\n      <td>Moons:</td>\\n      <td>2 (Phobos &amp; Deimos)</td>\\n    </tr>\\n    <tr>\\n      <th>4</th>\\n      <td>Orbit Distance:</td>\\n      <td>227,943,824 km (1.52 AU)</td>\\n    </tr>\\n    <tr>\\n      <th>5</th>\\n      <td>Orbit Period:</td>\\n      <td>687 days (1.9 years)</td>\\n    </tr>\\n    <tr>\\n      <th>6</th>\\n      <td>Surface Temperature:</td>\\n      <td>-153 to 20 °C</td>\\n    </tr>\\n    <tr>\\n      <th>7</th>\\n      <td>First Record:</td>\\n      <td>2nd millennium BC</td>\\n    </tr>\\n    <tr>\\n      <th>8</th>\\n      <td>Recorded By:</td>\\n      <td>Egyptian astronomers</td>\\n    </tr>\\n  </tbody>\\n</table>', 'hemis': [{'title': <h3>Cerberus Hemisphere Enhanced</h3>, 'img_url': 'http://astropedia.astrogeology.usgs.gov/download/Mars/Viking/valles_marineris_enhanced.tif'}]}\n"
     ]
    }
   ],
   "source": [
    "def scrape():\n",
    "    # Dependencies\n",
    "    import re\n",
    "    import os\n",
    "    from bs4 import BeautifulSoup\n",
    "    import requests\n",
    "    from splinter import Browser\n",
    "    from splinter.exceptions import ElementDoesNotExist\n",
    "    import pandas as pd\n",
    "    import time\n",
    "\n",
    "    scrape = {}\n",
    "\n",
    "\n",
    "    mars_hemis_url = 'https://astrogeology.usgs.gov/search/results?q=hemisphere+enhanced&k1=target&v1=Mars'\n",
    "    mars_hemis_base_url = 'https://astrogeology.usgs.gov'\n",
    "    browser.visit(mars_hemis_url)\n",
    "    time.sleep(5)\n",
    "\n",
    "    html = browser.html\n",
    "    soup = BeautifulSoup(html, 'html.parser')\n",
    "\n",
    "    titles = soup.find_all('h3')\n",
    "\n",
    "    mars_hemis_imgs = soup.find_all('div', class_='description')\n",
    "    html = browser.html\n",
    "    soup = BeautifulSoup(html, 'html.parser')\n",
    "\n",
    "    titles = soup.find_all('h3')\n",
    "\n",
    "    mars_hemis_imgs = soup.find_all('div', class_='description')\n",
    "\n",
    "    mars_hemis_list = []\n",
    "    for x in range(len(mars_hemis_imgs)):\n",
    "        mars_hemis_url = mars_hemis_imgs[x].find('a').get('href')\n",
    "        mars_hemis_list.append(mars_hemis_base_url + mars_hemis_url)\n",
    "\n",
    "    image_urls = []\n",
    "    for hemi_url in mars_hemis_list:\n",
    "        browser.visit(hemi_url)\n",
    "\n",
    "    html = browser.html\n",
    "    soup = BeautifulSoup(html, 'html.parser')\n",
    "    for link in soup.find_all('div', class_='downloads'):\n",
    "            image_urls.append(link.find_all('a')[1].get('href'))\n",
    "\n",
    "    hemisphere_image_urls = []\n",
    "    for title, img_url in zip(titles, image_urls):\n",
    "        hemisphere_image_urls.append({'title': title,\n",
    "                                    'img_url': img_url})\n",
    "\n",
    "        \n",
    "    scrape['hemis'] = hemisphere_image_urls\n",
    "   \n",
    "    return scrape"
   ]
  },
  {
   "cell_type": "code",
   "execution_count": 66,
   "metadata": {},
   "outputs": [
    {
     "data": {
      "text/plain": [
       "[{'title': <h3>Cerberus Hemisphere Enhanced</h3>,\n",
       "  'img_url': 'http://astropedia.astrogeology.usgs.gov/download/Mars/Viking/valles_marineris_enhanced.tif'}]"
      ]
     },
     "execution_count": 66,
     "metadata": {},
     "output_type": "execute_result"
    }
   ],
   "source": [
    "mars_dict['hemis']"
   ]
  },
  {
   "cell_type": "code",
   "execution_count": null,
   "metadata": {},
   "outputs": [],
   "source": []
  }
 ],
 "metadata": {
  "kernelspec": {
   "display_name": "PythonData",
   "language": "python",
   "name": "pythondata"
  },
  "language_info": {
   "codemirror_mode": {
    "name": "ipython",
    "version": 3
   },
   "file_extension": ".py",
   "mimetype": "text/x-python",
   "name": "python",
   "nbconvert_exporter": "python",
   "pygments_lexer": "ipython3",
   "version": "3.6.5"
  },
  "varInspector": {
   "cols": {
    "lenName": 16,
    "lenType": 16,
    "lenVar": 40
   },
   "kernels_config": {
    "python": {
     "delete_cmd_postfix": "",
     "delete_cmd_prefix": "del ",
     "library": "var_list.py",
     "varRefreshCmd": "print(var_dic_list())"
    },
    "r": {
     "delete_cmd_postfix": ") ",
     "delete_cmd_prefix": "rm(",
     "library": "var_list.r",
     "varRefreshCmd": "cat(var_dic_list()) "
    }
   },
   "types_to_exclude": [
    "module",
    "function",
    "builtin_function_or_method",
    "instance",
    "_Feature"
   ],
   "window_display": false
  }
 },
 "nbformat": 4,
 "nbformat_minor": 2
}
